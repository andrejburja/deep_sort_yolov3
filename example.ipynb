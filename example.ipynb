{
 "cells": [
  {
   "cell_type": "code",
   "execution_count": 1,
   "metadata": {},
   "outputs": [
    {
     "name": "stderr",
     "output_type": "stream",
     "text": [
      "Using TensorFlow backend.\n"
     ]
    }
   ],
   "source": [
    "#imports\n",
    "import os\n",
    "from timeit import time\n",
    "import warnings\n",
    "import sys\n",
    "import cv2\n",
    "import numpy as np\n",
    "from PIL import Image\n",
    "#imports from file yolo.py\n",
    "from yolo import YOLO\n",
    "#imports from folder deep_sort\n",
    "#Simple Online and Realtime Tracking with a Deep Association Metric (Deep SORT)\n",
    "from deep_sort import preprocessing\n",
    "from deep_sort import nn_matching\n",
    "from deep_sort.detection import Detection\n",
    "from deep_sort.tracker import Tracker\n",
    "#imports from filder tools\n",
    "from tools import generate_detections as gdet\n",
    "#imports from file detection.py in folder deep_sort\n",
    "from deep_sort.detection import Detection as ddet"
   ]
  },
  {
   "cell_type": "code",
   "execution_count": 2,
   "metadata": {},
   "outputs": [
    {
     "name": "stdout",
     "output_type": "stream",
     "text": [
      "model_data/yolo.h5 model, anchors, and classes loaded.\n"
     ]
    }
   ],
   "source": [
    "def main(yolo):\n",
    "\n",
    "   # Definition of the parameters\n",
    "    max_cosine_distance = 0.3\n",
    "    nn_budget = None\n",
    "    nms_max_overlap = 1.0\n",
    "    \n",
    "   # deep_sort \n",
    "    model_filename = 'model_data/mars-small128.pb'\n",
    "    encoder = gdet.create_box_encoder(model_filename,batch_size=1) #generate detections\n",
    "    \n",
    "    metric = nn_matching.NearestNeighborDistanceMetric(\"cosine\", max_cosine_distance, nn_budget)\n",
    "    tracker = Tracker(metric)\n",
    "\n",
    "    writeVideo_flag = True #write file to disk\n",
    "    \n",
    "    video_capture = cv2.VideoCapture(\"videos/traffic.mp4\") # open video file from disk\n",
    "\n",
    "    if writeVideo_flag: #for video write\n",
    "    # Define the codec and create VideoWriter object\n",
    "        w = int(video_capture.get(3))\n",
    "        h = int(video_capture.get(4))\n",
    "        fourcc = cv2.VideoWriter_fourcc(*'MJPG')\n",
    "        out = cv2.VideoWriter('output.avi', fourcc, 15, (w, h)) # write to video file on disk \n",
    "        list_file = open('detection.txt', 'w') # txt file to write to\n",
    "        frame_index = 0\n",
    "        \n",
    "    fps = 0.0\n",
    "    while True:\n",
    "        ret, frame = video_capture.read()  # capture one frame\n",
    "        if ret != True: # return value from video capture\n",
    "            break;\n",
    "        t1 = time.time()\n",
    "\n",
    "        image = Image.fromarray(frame) #create image from frame\n",
    "        boxs, scores = yolo.detect_image(image) #boxs and probabilities        \n",
    "        features = encoder(frame,boxs)\n",
    "        \n",
    "        detections = [Detection(bbox, score, feature) for bbox, score, feature in zip(boxs, scores, features)]\n",
    "        \n",
    "        # Run non-maxima suppression.\n",
    "        boxes = np.array([d.tlwh for d in detections])\n",
    "        scores = np.array([d.confidence for d in detections])\n",
    "        indices = preprocessing.non_max_suppression(boxes, nms_max_overlap, scores)\n",
    "        detections = [detections[i] for i in indices]\n",
    "        \n",
    "        # Call the tracker\n",
    "        tracker.predict()\n",
    "        tracker.update(detections)    \n",
    "        \n",
    "        for track in tracker.tracks:            \n",
    "            if track.is_confirmed() and track.time_since_update >1 :\n",
    "                continue \n",
    "            bbox = track.to_tlbr()\n",
    "            cv2.rectangle(frame, (int(bbox[0]), int(bbox[1])), (int(bbox[2]), int(bbox[3])),(255,255,255), 2) #white\n",
    "            cv2.putText(frame, str(track.track_id),(int(bbox[2]), int(bbox[3])),0, 5e-3 * 200, (0,255,0),2)\n",
    "            list_file.write(str(frame_index)+' - ') # write frame index\n",
    "            list_file.write(str(track.track_id)+': '+str(int(bbox[0])) + ' '+str(int(bbox[1])) + ' '\n",
    "                                    +str(int(bbox[2])) + ' '+str(int(bbox[3])) + ' ')\n",
    "            list_file.write('\\n')\n",
    "\n",
    "        for det in detections:\n",
    "            bbox = det.to_tlbr()\n",
    "            cv2.rectangle(frame,(int(bbox[0]), int(bbox[1])), (int(bbox[2]), int(bbox[3])),(255,0,0), 2) #blue\n",
    "            cv2.putText(frame, \"{:.2f}\".format(det.confidence),(int(bbox[2]), int(bbox[3])+20),0, 5e-3 * 200, (0,0,255),2)\n",
    "            \n",
    "        cv2.imshow('', frame) # show on screent\n",
    "        \n",
    "        if writeVideo_flag:\n",
    "            # save a frame (to file on disk)\n",
    "            out.write(frame)\n",
    "            frame_index = frame_index + 1\n",
    "\n",
    "            \n",
    "        fps  = ( fps + (1./(time.time()-t1)) ) / 2\n",
    "        #print(\"fps= %f\"%(fps)) #print fps\n",
    "        \n",
    "        # Press Q to stop!\n",
    "        if cv2.waitKey(1) & 0xFF == ord('q'):\n",
    "            break\n",
    "\n",
    "    video_capture.release()\n",
    "    if writeVideo_flag:\n",
    "        out.release()\n",
    "        list_file.close()\n",
    "    cv2.destroyAllWindows()\n",
    "    \n",
    "main(YOLO())"
   ]
  },
  {
   "cell_type": "code",
   "execution_count": null,
   "metadata": {},
   "outputs": [],
   "source": []
  }
 ],
 "metadata": {
  "kernelspec": {
   "display_name": "Python 3",
   "language": "python",
   "name": "python3"
  },
  "language_info": {
   "codemirror_mode": {
    "name": "ipython",
    "version": 3
   },
   "file_extension": ".py",
   "mimetype": "text/x-python",
   "name": "python",
   "nbconvert_exporter": "python",
   "pygments_lexer": "ipython3",
   "version": "3.6.6"
  }
 },
 "nbformat": 4,
 "nbformat_minor": 2
}
